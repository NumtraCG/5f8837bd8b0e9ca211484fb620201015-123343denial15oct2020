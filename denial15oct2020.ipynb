{
 "cells": [
  {
   "cell_type": "markdown",
   "metadata": {},
   "source": [
    "***GENERATED CODE FOR denial15oct2020 PIPELINE.***"
   ]
  },
  {
   "cell_type": "markdown",
   "metadata": {},
   "source": [
    "***DON'T EDIT THIS CODE.***"
   ]
  },
  {
   "cell_type": "markdown",
   "metadata": {},
   "source": [
    "***CONNECTOR FUNCTIONS TO READ DATA FROM DATABRICKS FILESYSTEM.***"
   ]
  },
  {
   "cell_type": "code",
   "execution_count": null,
   "metadata": {},
   "outputs": [],
   "source": [
    "import warnings\n",
    "warnings.filterwarnings('ignore')\n",
    "\n",
    "\n",
    "class RDBMSConnector:\n",
    "\n",
    "    def fetch(spark, config):\n",
    "        drivers = {\"mssql\": \"com.microsoft.sqlserver.jdbc.SQLServerDriver\"}\n",
    "        return spark.read.format(\"jdbc\") \\\n",
    "            .option(\"url\", f\"jdbc:sqlserver://{eval(config)['host']}:{eval(config)['port']};databaseName={eval(config)['database']}\") \\\n",
    "            .option(eval(config)['qtype'], eval(config)['query']) \\\n",
    "            .option(\"user\", eval(config)['user']) \\\n",
    "            .option(\"password\", eval(config)['password']) \\\n",
    "            .option(\"driver\",  \"com.microsoft.sqlserver.jdbc.SQLServerDriver\") \\\n",
    "            .load()\n",
    "\n",
    "    def put(df, spark, config):\n",
    "        drivers = {\"mssql\": \"com.microsoft.sqlserver.jdbc.SQLServerDriver\"}\n",
    "        # Write modes: overwrite, append\n",
    "        df.write.mode(eval(config)['writemode'])\\\n",
    "            .format('jdbc') \\\n",
    "            .option(\"url\", f\"jdbc:{eval(config)['dbtype']}://{eval(config)['host']}:{eval(config)['port']};databaseName={eval(config)['database']}\") \\\n",
    "            .option(\"dbtable\", eval(config)['table']) \\\n",
    "            .option(\"user\", eval(config)['user']) \\\n",
    "            .option(\"password\", eval(config)['password']) \\\n",
    "            .option(\"driver\",  \"com.microsoft.sqlserver.jdbc.SQLServerDriver\") \\\n",
    "            .save()\n"
   ]
  },
  {
   "cell_type": "markdown",
   "metadata": {},
   "source": [
    "***OPERATION FUNCTIONS***"
   ]
  },
  {
   "cell_type": "code",
   "execution_count": null,
   "metadata": {},
   "outputs": [],
   "source": [
    "\n",
    "\n",
    "def QueryEditor(spark, joindataobj):\n",
    "    for source in joindataobj[\"sourcesForQuery\"]:\n",
    "        sourcename = source['sourcename']\n",
    "        source['sourcename'] = spark.read.options(header='true', inferschema='true', delimiter=',')\\\n",
    "            .csv('dbfs:' + source['sourcepath'])\n",
    "        source['sourcename'].createOrReplaceTempView(sourcename)\n",
    "    joinedDf = spark.sql(joindataobj['querytext'])\n",
    "    df = removeIfDuplicates(joinedDf)\n",
    "    print(display(df.limit(2).toPandas()))\n",
    "    return df\n",
    "\n",
    "\n",
    "def removeIfDuplicates(joinedDf):\n",
    "    cols_new = []\n",
    "    seen = set()\n",
    "    for c in joinedDf.columns:\n",
    "        cols_new.append('{}_dup'.format(c) if c in seen else c)\n",
    "        seen.add(c)\n",
    "    df = joinedDf.toDF(*cols_new).select(*\n",
    "                                         [c for c in cols_new if not c.endswith('_dup')])\n",
    "    return df\n"
   ]
  },
  {
   "cell_type": "markdown",
   "metadata": {},
   "source": [
    "***TRANSFORMATIONS FUNCTIONS THAT WILL BE APPLIED ON DATA***"
   ]
  },
  {
   "cell_type": "code",
   "execution_count": null,
   "metadata": {},
   "outputs": [],
   "source": [
    "import json\n",
    "from pyspark.sql.types import IntegerType\n",
    "from pyspark.ml.feature import StringIndexer\n",
    "from pyspark.sql.functions import col, when\n",
    "from pyspark.sql.types import IntegerType\n",
    "from pyspark.sql.functions import mean, stddev, min, max, col\n",
    "\n",
    "\n",
    "class CleanseData:\n",
    "    # def __init__(self,df):\n",
    "    #     #print()\n",
    "\n",
    "    def replaceByMean(self, feature, df, mean_=-1):\n",
    "\n",
    "        meanValue = df.select(mean(col(feature.name)).alias(\n",
    "            'mean')).collect()[0][\"mean\"]\n",
    "        df.fillna(meanValue, subset=[feature.name])\n",
    "        df.withColumn(feature.name, when(col(feature.name) == \" \",\n",
    "                                         meanValue).otherwise(col(feature.name).cast(\"Integer\")))\n",
    "        return df\n",
    "\n",
    "    def replaceByMax(self, feature, df, max_=-1):\n",
    "        maxValue = df.select(max(col(feature.name)).alias('max')).collect()[\n",
    "            0][\"max\"]\n",
    "        df.fillna(maxValue, subset=[feature.name])\n",
    "        df = df.withColumn(feature.name,\n",
    "                           when(col(feature.name) == \" \", maxValue).otherwise(col(feature.name)))\n",
    "        return df\n",
    "\n",
    "    def replaceByMin(self, feature, df, min_=-1):\n",
    "        minValue = df.select(min(col(feature.name)).alias('min')).collect()[\n",
    "            0][\"min\"]\n",
    "        df.fillna(minValue, subset=[feature.name])\n",
    "        df = df.withColumn(feature.name,\n",
    "                           when(col(feature.name) == \" \", minValue).otherwise(col(feature.name)))\n",
    "        return df\n",
    "\n",
    "    def replaceByStandardDeviation(self, feature, df, stddev_=-1):\n",
    "        stddevValue = df.select(stddev(col(feature.name)).alias(\n",
    "            'stddev')).collect()[0][\"stddev\"]\n",
    "        df.fillna(stddevValue, subset=[feature.name])\n",
    "        df = df.withColumn(feature.name,\n",
    "                           when(col(feature.name) == \" \", stddevValue).otherwise(col(feature.name)))\n",
    "        return df\n",
    "\n",
    "    def replaceDateRandomly(self, feature, df):\n",
    "        fillValue = df.where(col(feature.name).isNotNull()\n",
    "                             ).head(1)[0][feature.name]\n",
    "        df.fillna(str(fillValue), subset=[feature.name])\n",
    "        df = df.withColumn(feature.name,\n",
    "                           when(col(feature.name) == \" \", fillValue).otherwise(col(feature.name)))\n",
    "        # print(\"CleanseData:replaceDateRandomly Schema : \", df.#printSchema())\n",
    "        return df\n",
    "\n",
    "    def replaceNullValues(self, fList, df):\n",
    "        featuresList = df.schema.fields\n",
    "        for featureObj in fList:\n",
    "            for feat in featuresList:\n",
    "                if featureObj[\"feature\"] in feat.name:\n",
    "                    featureName = feat\n",
    "                    if \"mean\" in featureObj[\"replaceby\"]:\n",
    "                        df = self.replaceByMean(featureName, df)\n",
    "                    elif \"max\" in featureObj[\"replaceby\"]:\n",
    "                        df = self.replaceByMax(featureName, df)\n",
    "                    elif \"min\" in featureObj[\"replaceby\"]:\n",
    "                        df = self.replaceByMin(featureName, df)\n",
    "                    elif \"stddev\" in featureObj[\"replaceby\"]:\n",
    "                        df = self.replaceByStandardDeviation(featureName, df)\n",
    "                    elif \"random\" in featureObj[\"replaceby\"]:\n",
    "                        df = self.replaceDateRandomly(featureName, df)\n",
    "        return df\n",
    "\n",
    "\n",
    "def StringIndexerTransform(df, params, transformationData={}):\n",
    "    dfReturn = df\n",
    "    feature = params[\"feature\"]\n",
    "\n",
    "    dfReturn = dfReturn.fillna({feature: ''})\n",
    "    outcol = feature + \"_stringindexer\"\n",
    "    indexer = StringIndexer(\n",
    "        inputCol=feature, outputCol=outcol, handleInvalid=\"skip\")\n",
    "    indexed = indexer.fit(dfReturn).transform(dfReturn)\n",
    "    dfReturn = indexed\n",
    "    distinct_values_list = dfReturn.select(\n",
    "        outcol).distinct().rdd.map(lambda r: r[0]).collect()\n",
    "    len_distinct_values_list = len(distinct_values_list)\n",
    "    if len_distinct_values_list <= 4:\n",
    "        changed_type_df = dfReturn.withColumn(\n",
    "            outcol, dfReturn[outcol].cast(IntegerType()))\n",
    "        return changed_type_df\n",
    "    return dfReturn\n",
    "\n",
    "\n",
    "class TransformationMain:\n",
    "    # TODO: change df argument in run with following\n",
    "    def run(transformationDF, config):\n",
    "        configObj = json.loads(config)\n",
    "        featureData = configObj[\"FE\"]\n",
    "        transformationDF = CleanseData().replaceNullValues(featureData, transformationDF)\n",
    "        transformationDF = StringIndexerTransform(transformationDF, {'transformationsData': [{'feature_label': 'CPTCode', 'transformation_label': 'String Indexer'}], 'feature': 'CPTCode', 'type': 'string', 'selected': 'True', 'replaceby': 'max', 'stats': {\n",
    "                                                  'count': '10289', 'mean': '88698.17', 'stddev': '93788.0', 'min': '00731', 'max': 'V5299', 'missing': '0'}, 'transformation': [{'transformation': 'String Indexer', 'selectedAsDefault': 1}], 'updatedLabel': 'CPTCode'}, {'feature_label': 'CPTCode', 'transformation_label': 'String Indexer'})\n",
    "        transformationDF = transformationDF.drop('CPTCode')\n",
    "        transformationDF = StringIndexerTransform(transformationDF, {'transformationsData': [{'feature_label': 'City', 'transformation_label': 'String Indexer'}], 'feature': 'City', 'type': 'string', 'selected': 'True', 'replaceby': 'max', 'stats': {\n",
    "            'count': '10289', 'mean': '', 'stddev': '', 'min': 'Carrollton', 'max': 'Yorktown', 'missing': '0'}, 'transformation': [{'transformation': 'String Indexer', 'selectedAsDefault': 1}], 'updatedLabel': 'City'}, {'feature_label': 'City', 'transformation_label': 'String Indexer'})\n",
    "        transformationDF = transformationDF.drop('City')\n",
    "        transformationDF = StringIndexerTransform(transformationDF, {'transformationsData': [{'feature_label': 'FacilityCategory', 'transformation_label': 'String Indexer'}], 'feature': 'FacilityCategory', 'type': 'string', 'selected': 'True', 'replaceby': 'max', 'stats': {\n",
    "            'count': '10289', 'mean': '', 'stddev': '', 'min': 'After Hours Care Newport News', 'max': 'Yorktown Family Medicine', 'missing': '0'}, 'transformation': [{'transformation': 'String Indexer', 'selectedAsDefault': 1}], 'updatedLabel': 'FacilityCategory'}, {'feature_label': 'FacilityCategory', 'transformation_label': 'String Indexer'})\n",
    "        transformationDF = transformationDF.drop('FacilityCategory')\n",
    "        transformationDF = StringIndexerTransform(transformationDF, {'transformationsData': [{'feature_label': 'Gender', 'transformation_label': 'String Indexer'}], 'feature': 'Gender', 'type': 'string', 'selected': 'True', 'replaceby': 'max', 'stats': {\n",
    "            'count': '10289', 'mean': '', 'stddev': '', 'min': 'F', 'max': 'M', 'missing': '0'}, 'transformation': [{'transformation': 'String Indexer', 'selectedAsDefault': 1}], 'updatedLabel': 'Gender'}, {'feature_label': 'Gender', 'transformation_label': 'String Indexer'})\n",
    "        transformationDF = transformationDF.drop('Gender')\n",
    "        transformationDF = StringIndexerTransform(transformationDF, {'transformationsData': [{'feature_label': 'PracticeCategory', 'transformation_label': 'String Indexer'}], 'feature': 'PracticeCategory', 'type': 'string', 'selected': 'True', 'replaceby': 'max', 'stats': {\n",
    "            'count': '10289', 'mean': '', 'stddev': '', 'min': 'Charles Lee Ginsburgh', 'max': 'TPMG', 'missing': '0'}, 'transformation': [{'transformation': 'String Indexer', 'selectedAsDefault': 1}], 'updatedLabel': 'PracticeCategory'}, {'feature_label': 'PracticeCategory', 'transformation_label': 'String Indexer'})\n",
    "        transformationDF = transformationDF.drop('PracticeCategory')\n",
    "        transformationDF = StringIndexerTransform(transformationDF, {'transformationsData': [{'feature_label': 'DepartmentCategory', 'transformation_label': 'String Indexer'}], 'feature': 'DepartmentCategory', 'type': 'string', 'selected': 'True', 'replaceby': 'max', 'stats': {\n",
    "            'count': '10289', 'mean': '', 'stddev': '', 'min': '<Unspecified>', 'max': 'X-Ray', 'missing': '0'}, 'transformation': [{'transformation': 'String Indexer', 'selectedAsDefault': 1}], 'updatedLabel': 'DepartmentCategory'}, {'feature_label': 'DepartmentCategory', 'transformation_label': 'String Indexer'})\n",
    "        transformationDF = transformationDF.drop('DepartmentCategory')\n",
    "        display(transformationDF.limit(2).toPandas())\n",
    "        return transformationDF\n"
   ]
  },
  {
   "cell_type": "markdown",
   "metadata": {},
   "source": [
    "***AUTOML FUNCTIONS***"
   ]
  },
  {
   "cell_type": "code",
   "execution_count": null,
   "metadata": {},
   "outputs": [],
   "source": [
    "from tpot import TPOTClassifier\n",
    "from sklearn.model_selection import train_test_split\n",
    "import pyspark\n",
    "\n",
    "\n",
    "def functionClassification(sparkDF, listOfFeatures, label):\n",
    "    sparkDF.persist(pyspark.StorageLevel.MEMORY_AND_DISK)\n",
    "    df = (sparkDF.toPandas())\n",
    "    X = (df.drop(label, axis=1))[listOfFeatures].values\n",
    "    y = df[label].values\n",
    "    X_train, X_test, y_train, y_test = train_test_split(\n",
    "        X, y, random_state=1, test_size=0.1)\n",
    "    tpotModel = TPOTClassifier(verbosity=3, n_jobs=-1, generations=10, max_time_mins=5,\n",
    "                               population_size=15)\n",
    "    tpotModel.fit(X_train, y_train)\n",
    "    display(\" Accuracy of Model : %s\" % tpotModel.score(X_test, y_test))\n",
    "    data = {'model': tpotModel,\n",
    "            'X_test': X_test,\n",
    "            'y_test': y_test,\n",
    "            'label': label,\n",
    "            'columnNames': listOfFeatures}\n",
    "    return data\n"
   ]
  },
  {
   "cell_type": "markdown",
   "metadata": {},
   "source": [
    "***READING DATAFRAME***"
   ]
  },
  {
   "cell_type": "code",
   "execution_count": null,
   "metadata": {},
   "outputs": [],
   "source": [
    "from pyspark.sql import SparkSession\n",
    "spark = SparkSession.builder.getOrCreate()\n",
    "\n",
    "#%run denial15oct2020Hooks.ipynb\n",
    "try:\n",
    "\t#sourcePreExecutionHook()\n",
    "\tdenial = RDBMSConnector.fetch(spark, \"{'url': '/FileStore/platform/sampleData/5f8837d08b0e9ca211484fba/part-00000-tid-5206032533898413152-f0aec763-b60d-43fd-a32d-b74e3b6dbe9e-59684-1-c000.csv', 'host': 'wsc-sqlserver1.database.windows.net', 'port': '1433', 'password': 'G5gTW5rnKVeAZWXm', 'database': 'NextGen_Tidewater_Physicians', 'optionalDB': 'NextGen_Tidewater_Physicians', 'user': 'Numtra', 'qtype': 'query', 'query': \"SELECT DISTINCT TOP(100000) cd.Unit, cd.Amount, cp.CPTCode, fac.City, fac.FacilityCategory, pat.Gender,\\r\\nFLOOR(DATEDIFF(DAY, pat.DateOfBirth, GETDATE()) / 365.25) AS Age, Pr.PracticeCategory, dep.DepartmentCategory,\\r\\ncd.PatientBal, cd.PrimaryInsuranceBal,  cd.DiagnosisCodeID1 AS Diagnosis1,\\r\\nMonth(cd.DateOfEntry) AS MonthOfEntry,  cd.DiagnosisCodeID2 AS Diagnosis2, \\r\\nstatus=(SELECT CASE trc.ReasonType WHEN 'Denial' THEN 1 ELSE 0 END)\\r\\nFROM chargedetail cd inner join TransactionReason as tr on tr.ChargeDetailID = cd.ChargeDetailID\\r\\ninner join TransactionReasonCode as trc on tr.TransactionReasonCodeID = trc.TransactionReasonCodeID \\r\\ninner join Practice as Pr on Pr.PracticeID = cd.PracticeID  \\r\\ninner join CptCode as cp on cp.CPTCodeID = cd.CPTCodeID  \\r\\ninner join Department as dep on dep.DepartmentID = cd.DepartmentID  \\r\\ninner join Facility as fac on fac.FacilityID = cd.FacilityID  \\r\\ninner join Patient as pat on pat.PatientID = cd.PatientID  \\r\\nWHERE trc.ReasonType IN ('Denial') \\r\\nand cd.Amount > .01 and\\r\\nexists ( select distinct ChargeDetailID as cd from TransactionReasonCode as tr inner join TransactionReason as r on tr.TransactionReasonCodeID = r.TransactionReasonCodeID and cd.ChargeDetailID = r.ChargeDetailID)\", 'dbtype': 'mssql', 'is_header': 'Use Header Line'}\")\n",
    "\n",
    "\n",
    "\n",
    "\tnondenial = RDBMSConnector.fetch(spark, \"{'url': '/FileStore/platform/sampleData/5f8837d28b0e9ca211484fbb/part-00000-tid-6442739461415488559-d515570c-68cd-466c-9c2b-56699e927c9d-59688-1-c000.csv', 'host': 'wsc-sqlserver1.database.windows.net', 'port': '1433', 'password': 'G5gTW5rnKVeAZWXm', 'database': 'NextGen_Tidewater_Physicians', 'optionalDB': 'NextGen_Tidewater_Physicians', 'user': 'Numtra', 'qtype': 'query', 'query': \"SELECT DISTINCT TOP(100000) cd.Unit, cd.Amount, cp.CPTCode, fac.City, fac.FacilityCategory, pat.Gender,\\r\\nFLOOR(DATEDIFF(DAY, pat.DateOfBirth, GETDATE()) / 365.25) AS Age, Pr.PracticeCategory, dep.DepartmentCategory,\\r\\ncd.PatientBal, cd.PrimaryInsuranceBal,  cd.DiagnosisCodeID1 AS Diagnosis1,\\r\\nMonth(cd.DateOfEntry) AS MonthOfEntry,  cd.DiagnosisCodeID2 AS Diagnosis2, \\r\\nstatus=(SELECT CASE trc.ReasonType WHEN 'Denial' THEN 1 ELSE 0 END)\\r\\nFROM chargedetail cd inner join TransactionReason as tr on tr.ChargeDetailID = cd.ChargeDetailID\\r\\ninner join TransactionReasonCode as trc on tr.TransactionReasonCodeID = trc.TransactionReasonCodeID \\r\\ninner join Practice as Pr on Pr.PracticeID = cd.PracticeID  \\r\\ninner join CptCode as cp on cp.CPTCodeID = cd.CPTCodeID  \\r\\ninner join Department as dep on dep.DepartmentID = cd.DepartmentID  \\r\\ninner join Facility as fac on fac.FacilityID = cd.FacilityID  \\r\\ninner join Patient as pat on pat.PatientID = cd.PatientID  \\r\\nWHERE trc.ReasonType IN ('Contractual', 'Informational', 'Co-Ins/Deduct', 'SPAY-Patient Responsibility', 'Other') \\r\\nand cd.Amount > .01 and\\r\\nexists ( select distinct ChargeDetailID as cd from TransactionReasonCode as tr inner join TransactionReason as r on tr.TransactionReasonCodeID = r.TransactionReasonCodeID and cd.ChargeDetailID = r.ChargeDetailID)\", 'dbtype': 'mssql', 'is_header': 'Use Header Line'}\")\n",
    "\t#sourcePostExecutionHook(nondenial)\n",
    "\n",
    "except Exception as ex: \n",
    "\tlogging.error(ex)\n"
   ]
  },
  {
   "cell_type": "markdown",
   "metadata": {},
   "source": [
    "***PERFORMING OPERATIONS***"
   ]
  },
  {
   "cell_type": "code",
   "execution_count": null,
   "metadata": {},
   "outputs": [],
   "source": [
    "#%run denial15oct2020Hooks.ipynb\n",
    "try:\n",
    "\t#operationPreExecutionHook()\n",
    "\n",
    "\tjoindata = QueryEditor(spark, {\"querytext\": \"SELECT  * FROM Denial UNION ALL Select *  FROM NonDenial \", \"sourcesForQuery\": [{\"sourcename\": \"Denial\", \"sourcepath\": \"/FileStore/platform/sampleData/5f8837d08b0e9ca211484fba/part-00000-tid-5206032533898413152-f0aec763-b60d-43fd-a32d-b74e3b6dbe9e-59684-1-c000.csv\", \"sourceid\": \"5f8837d08b0e9ca211484fba\"}, {\"sourcename\": \"NonDenial\", \"sourcepath\": \"/FileStore/platform/sampleData/5f8837d28b0e9ca211484fbb/part-00000-tid-6442739461415488559-d515570c-68cd-466c-9c2b-56699e927c9d-59688-1-c000.csv\", \"sourceid\": \"5f8837d28b0e9ca211484fbb\"}], \"fieldsForQuery\": []})\n",
    "\t#operationPostExecutionHook(joindata)\n",
    "\n",
    "except Exception as ex: \n",
    "\tlogging.error(ex)\n"
   ]
  },
  {
   "cell_type": "markdown",
   "metadata": {},
   "source": [
    "***TRANSFORMING DATAFRAME***"
   ]
  },
  {
   "cell_type": "code",
   "execution_count": null,
   "metadata": {},
   "outputs": [],
   "source": [
    "#%run denial15oct2020Hooks.ipynb\n",
    "try:\n",
    "\t#transformationPreExecutionHook()\n",
    "\n",
    "\tautofe = TransformationMain.run(joindata,json.dumps( {\"FE\": [{\"transformationsData\": [{\"transformation_label\": \"novalue\"}], \"feature\": \"Unit\", \"type\": \"real\", \"selected\": \"True\", \"replaceby\": \"mean\", \"stats\": {\"count\": \"10289\", \"mean\": \"1.05\", \"stddev\": \"1.63\", \"min\": \"1.0\", \"max\": \"99.0\", \"missing\": \"0\"}, \"transformation\": [{\"transformation\": \"novalue\", \"selectedAsDefault\": 1}], \"updatedLabel\": \"Unit\"}, {\"transformationsData\": [{\"transformation_label\": \"novalue\"}], \"feature\": \"Amount\", \"type\": \"real\", \"selected\": \"True\", \"replaceby\": \"mean\", \"stats\": {\"count\": \"10289\", \"mean\": \"185.03\", \"stddev\": \"256.61\", \"min\": \"5.0\", \"max\": \"5838.0\", \"missing\": \"0\"}, \"transformation\": [{\"transformation\": \"novalue\", \"selectedAsDefault\": 1}], \"updatedLabel\": \"Amount\"}, {\"transformationsData\": [{\"feature_label\": \"CPTCode\", \"transformation_label\": \"String Indexer\"}], \"feature\": \"CPTCode\", \"type\": \"string\", \"selected\": \"True\", \"replaceby\": \"max\", \"stats\": {\"count\": \"10289\", \"mean\": \"88698.17\", \"stddev\": \"93788.0\", \"min\": \"00731\", \"max\": \"V5299\", \"missing\": \"0\"}, \"transformation\": [{\"transformation\": \"String Indexer\", \"selectedAsDefault\": 1}], \"updatedLabel\": \"CPTCode\"}, {\"transformationsData\": [{\"feature_label\": \"City\", \"transformation_label\": \"String Indexer\"}], \"feature\": \"City\", \"type\": \"string\", \"selected\": \"True\", \"replaceby\": \"max\", \"stats\": {\"count\": \"10289\", \"mean\": \"\", \"stddev\": \"\", \"min\": \"Carrollton\", \"max\": \"Yorktown\", \"missing\": \"0\"}, \"transformation\": [{\"transformation\": \"String Indexer\", \"selectedAsDefault\": 1}], \"updatedLabel\": \"City\"}, {\"transformationsData\": [{\"feature_label\": \"FacilityCategory\", \"transformation_label\": \"String Indexer\"}], \"feature\": \"FacilityCategory\", \"type\": \"string\", \"selected\": \"True\", \"replaceby\": \"max\", \"stats\": {\"count\": \"10289\", \"mean\": \"\", \"stddev\": \"\", \"min\": \"After Hours Care Newport News\", \"max\": \"Yorktown Family Medicine\", \"missing\": \"0\"}, \"transformation\": [{\"transformation\": \"String Indexer\", \"selectedAsDefault\": 1}], \"updatedLabel\": \"FacilityCategory\"}, {\"transformationsData\": [{\"feature_label\": \"Gender\", \"transformation_label\": \"String Indexer\"}], \"feature\": \"Gender\", \"type\": \"string\", \"selected\": \"True\", \"replaceby\": \"max\", \"stats\": {\"count\": \"10289\", \"mean\": \"\", \"stddev\": \"\", \"min\": \"F\", \"max\": \"M\", \"missing\": \"0\"}, \"transformation\": [{\"transformation\": \"String Indexer\", \"selectedAsDefault\": 1}], \"updatedLabel\": \"Gender\"}, {\"transformationsData\": [{\"transformation_label\": \"novalue\"}], \"feature\": \"Age\", \"transformation\": [{\"transformation\": \"novalue\", \"selectedAsDefault\": 1}], \"type\": \"numeric\", \"replaceby\": \"mean\", \"selected\": \"True\", \"stats\": {\"count\": \"10289\", \"mean\": \"62.87\", \"stddev\": \"18.32\", \"min\": \"0\", \"max\": \"120\", \"missing\": \"0\"}, \"updatedLabel\": \"Age\"}, {\"transformationsData\": [{\"feature_label\": \"PracticeCategory\", \"transformation_label\": \"String Indexer\"}], \"feature\": \"PracticeCategory\", \"type\": \"string\", \"selected\": \"True\", \"replaceby\": \"max\", \"stats\": {\"count\": \"10289\", \"mean\": \"\", \"stddev\": \"\", \"min\": \"Charles Lee Ginsburgh\", \"max\": \"TPMG\", \"missing\": \"0\"}, \"transformation\": [{\"transformation\": \"String Indexer\", \"selectedAsDefault\": 1}], \"updatedLabel\": \"PracticeCategory\"}, {\"transformationsData\": [{\"feature_label\": \"DepartmentCategory\", \"transformation_label\": \"String Indexer\"}], \"feature\": \"DepartmentCategory\", \"type\": \"string\", \"selected\": \"True\", \"replaceby\": \"max\", \"stats\": {\"count\": \"10289\", \"mean\": \"\", \"stddev\": \"\", \"min\": \"<Unspecified>\", \"max\": \"X-Ray\", \"missing\": \"0\"}, \"transformation\": [{\"transformation\": \"String Indexer\", \"selectedAsDefault\": 1}], \"updatedLabel\": \"DepartmentCategory\"}, {\"transformationsData\": [{\"transformation_label\": \"novalue\"}], \"feature\": \"PatientBal\", \"type\": \"real\", \"selected\": \"True\", \"replaceby\": \"mean\", \"stats\": {\"count\": \"10289\", \"mean\": \"2.32\", \"stddev\": \"27.01\", \"min\": \"-336.17\", \"max\": \"1647.15\", \"missing\": \"0\"}, \"transformation\": [{\"transformation\": \"novalue\", \"selectedAsDefault\": 1}], \"updatedLabel\": \"PatientBal\"}, {\"transformationsData\": [{\"transformation_label\": \"novalue\"}], \"feature\": \"PrimaryInsuranceBal\", \"type\": \"real\", \"selected\": \"True\", \"replaceby\": \"mean\", \"stats\": {\"count\": \"10289\", \"mean\": \"1.92\", \"stddev\": \"38.76\", \"min\": \"-251.0\", \"max\": \"3150.0\", \"missing\": \"0\"}, \"transformation\": [{\"transformation\": \"novalue\", \"selectedAsDefault\": 1}], \"updatedLabel\": \"PrimaryInsuranceBal\"}, {\"transformationsData\": [{\"transformation_label\": \"novalue\"}], \"feature\": \"Diagnosis1\", \"transformation\": [{\"transformation\": \"novalue\", \"selectedAsDefault\": 1}], \"type\": \"numeric\", \"replaceby\": \"mean\", \"selected\": \"True\", \"stats\": {\"count\": \"10289\", \"mean\": \"33816.88\", \"stddev\": \"19073.11\", \"min\": \"391\", \"max\": \"94919\", \"missing\": \"0\"}, \"updatedLabel\": \"Diagnosis1\"}, {\"transformationsData\": [{\"transformation_label\": \"novalue\"}], \"feature\": \"MonthOfEntry\", \"transformation\": [{\"transformation\": \"novalue\", \"selectedAsDefault\": 1}], \"type\": \"numeric\", \"replaceby\": \"mean\", \"selected\": \"True\", \"stats\": {\"count\": \"10289\", \"mean\": \"5.96\", \"stddev\": \"3.5\", \"min\": \"1\", \"max\": \"12\", \"missing\": \"0\"}, \"updatedLabel\": \"MonthOfEntry\"}, {\"transformationsData\": [{\"transformation_label\": \"novalue\"}], \"feature\": \"Diagnosis2\", \"transformation\": [{\"transformation\": \"novalue\", \"selectedAsDefault\": 1}], \"type\": \"numeric\", \"replaceby\": \"mean\", \"selected\": \"True\", \"stats\": {\"count\": \"10289\", \"mean\": \"36675.04\", \"stddev\": \"21652.04\", \"min\": \"849\", \"max\": \"94919\", \"missing\": \"0\"}, \"updatedLabel\": \"Diagnosis2\"}, {\"transformationsData\": [{\"transformation_label\": \"novalue\"}], \"feature\": \"status\", \"transformation\": [{\"transformation\": \"novalue\", \"selectedAsDefault\": 1}], \"type\": \"numeric\", \"replaceby\": \"mean\", \"selected\": \"True\", \"stats\": {\"count\": \"10289\", \"mean\": \"0.47\", \"stddev\": \"0.5\", \"min\": \"0\", \"max\": \"1\", \"missing\": \"0\"}, \"updatedLabel\": \"status\"}, {\"feature\": \"CPTCode_stringindexer_transform\", \"transformation\": [{\"transformation\": \"novalue\", \"selectedAsDefault\": 0}], \"transformationsData\": [{\"transformation_label\": \"novalue\"}], \"type\": \"real\", \"selected\": \"True\", \"stats\": {\"count\": \"10289\", \"mean\": \"17.36\", \"stddev\": \"41.95\", \"min\": \"0.0\", \"max\": \"334.0\", \"missing\": \"0\"}, \"updatedLabel\": \"CPTCode_stringindexer_tra...\"}, {\"feature\": \"City_stringindexer_transform\", \"transformation\": [{\"transformation\": \"novalue\", \"selectedAsDefault\": 0}], \"transformationsData\": [{\"transformation_label\": \"novalue\"}], \"type\": \"real\", \"selected\": \"True\", \"stats\": {\"count\": \"10289\", \"mean\": \"1.54\", \"stddev\": \"2.4\", \"min\": \"0.0\", \"max\": \"15.0\", \"missing\": \"0\"}, \"updatedLabel\": \"City_stringindexer_transf...\"}, {\"feature\": \"FacilityCategory_stringindexer_transform\", \"transformation\": [{\"transformation\": \"novalue\", \"selectedAsDefault\": 0}], \"transformationsData\": [{\"transformation_label\": \"novalue\"}], \"type\": \"real\", \"selected\": \"True\", \"stats\": {\"count\": \"10289\", \"mean\": \"20.6\", \"stddev\": \"26.95\", \"min\": \"0.0\", \"max\": \"160.0\", \"missing\": \"0\"}, \"updatedLabel\": \"FacilityCategory_stringin...\"}, {\"feature\": \"Gender_stringindexer_transform\", \"transformation\": [{\"transformation\": \"novalue\", \"selectedAsDefault\": 0}], \"transformationsData\": [{\"transformation_label\": \"novalue\"}], \"type\": \"numeric\", \"selected\": \"True\", \"stats\": {\"count\": \"10289\", \"mean\": \"0.42\", \"stddev\": \"0.49\", \"min\": \"0\", \"max\": \"1\", \"missing\": \"0\"}, \"updatedLabel\": \"Gender_stringindexer_tran...\"}, {\"feature\": \"PracticeCategory_stringindexer_transform\", \"transformation\": [{\"transformation\": \"novalue\", \"selectedAsDefault\": 0}], \"transformationsData\": [{\"transformation_label\": \"novalue\"}], \"type\": \"numeric\", \"selected\": \"True\", \"stats\": {\"count\": \"10289\", \"mean\": \"0.01\", \"stddev\": \"0.1\", \"min\": \"0\", \"max\": \"1\", \"missing\": \"0\"}, \"updatedLabel\": \"PracticeCategory_stringin...\"}, {\"feature\": \"DepartmentCategory_stringindexer_transform\", \"transformation\": [{\"transformation\": \"novalue\", \"selectedAsDefault\": 0}], \"transformationsData\": [{\"transformation_label\": \"novalue\"}], \"type\": \"real\", \"selected\": \"True\", \"stats\": {\"count\": \"10289\", \"mean\": \"1.06\", \"stddev\": \"1.68\", \"min\": \"0.0\", \"max\": \"24.0\", \"missing\": \"0\"}, \"updatedLabel\": \"DepartmentCategory_string...\"}]}))\n",
    "\n",
    "\t#transformationPostExecutionHook(autofe)\n",
    "\n",
    "except Exception as ex: \n",
    "\tlogging.error(ex)\n"
   ]
  },
  {
   "cell_type": "markdown",
   "metadata": {},
   "source": [
    "***TRAIN MODEL***"
   ]
  },
  {
   "cell_type": "code",
   "execution_count": null,
   "metadata": {},
   "outputs": [],
   "source": [
    "#%run denial15oct2020Hooks.ipynb\n",
    "try:\n",
    "\t#mlPreExecutionHook()\n",
    "\n",
    "\tdataAutoML=functionClassification(autofe, [\"Unit\", \"Amount\", \"CPTCode_stringindexer\", \"City_stringindexer\", \"FacilityCategory_stringindexer\", \"Gender_stringindexer\", \"Age\", \"PracticeCategory_stringindexer\", \"DepartmentCategory_stringindexer\", \"PatientBal\", \"PrimaryInsuranceBal\", \"Diagnosis1\", \"MonthOfEntry\", \"Diagnosis2\"], \"status\")\n",
    "\n",
    "\t#mlPostExecutionHook(dataAutoML)\n",
    "\n",
    "except Exception as ex: \n",
    "\tlogging.error(ex)\n"
   ]
  },
  {
   "cell_type": "markdown",
   "metadata": {},
   "source": [
    "***PREDICT ON TRAINED MODEL***"
   ]
  },
  {
   "cell_type": "code",
   "execution_count": null,
   "metadata": {},
   "outputs": [],
   "source": [
    "import pandas as pd\n",
    "import numpy as np\n",
    "import sklearn.metrics\n",
    "\n",
    "try:\n",
    "    model=dataAutoML['model']\n",
    "    X_test=dataAutoML['X_test']\n",
    "    y_test=dataAutoML['y_test']\n",
    "    label=dataAutoML['label']\n",
    "    columnNames=dataAutoML['columnNames']\n",
    "    if label in columnNames:\n",
    "        columnNames.remove(label)\n",
    "    predicted=label+\"_predicted\"\n",
    "    y_predicted=model.predict(X_test)\n",
    "    df =pd.DataFrame(X_test , columns=columnNames)\n",
    "    df[label]=y_test\n",
    "    df[predicted]=y_predicted\n",
    "    columnNames.insert(0,predicted)\n",
    "    columnNames.insert(0,label)\n",
    "    Accuracy = np.round((100 * sklearn.metrics.accuracy_score(y_true=y_test, y_pred=y_predicted)), 1)\n",
    "    F1= np.round(\n",
    "            (100 * sklearn.metrics.f1_score(y_true=y_test, y_pred=y_predicted, average=\"weighted\")), 1)\n",
    "    Precision= np.round((\n",
    "                100 * sklearn.metrics.precision_score(y_true=y_test, y_pred=y_predicted, average=\"weighted\")), 1)\n",
    "    Recall = np.round((\n",
    "                100 * sklearn.metrics.recall_score(y_true=y_test, y_pred=y_predicted, average=\"weighted\")), 1)\n",
    "    display(\" Accuracy of Prediction on test data    : %s\"%Accuracy)\n",
    "    display(\" F1 score of Prediction on test data    : %s\"%F1)\n",
    "    display(\" Precision of Prediction on test data   : %s\"%Precision)\n",
    "    display(\" Recall of Prediction on test data      : %s\"%Recall)\n",
    "    display(df.head())\n",
    "except Exception as ex:\n",
    "    logging.error(ex)\n",
    "\n"
   ]
  }
 ],
 "metadata": {},
 "nbformat": 4,
 "nbformat_minor": 4
}
